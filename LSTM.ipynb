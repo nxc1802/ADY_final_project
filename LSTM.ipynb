{
 "cells": [
  {
   "cell_type": "code",
   "execution_count": 9,
   "metadata": {},
   "outputs": [],
   "source": [
    "from selenium import webdriver\n",
    "from selenium.webdriver.common.by import By\n",
    "from selenium.webdriver.chrome.service import Service as ChromeService\n",
    "from webdriver_manager.chrome import ChromeDriverManager\n",
    "from selenium.webdriver.support.ui import WebDriverWait\n",
    "from selenium.webdriver.support import expected_conditions as EC\n",
    "from sklearn.metrics import f1_score\n",
    "from tensorflow.keras.models import load_model\n",
    "from tensorflow.keras.losses import MeanSquaredError\n",
    "from keras.models import Sequential\n",
    "from keras.layers import LSTM, Dense, Dropout\n",
    "from sklearn.model_selection import train_test_split\n",
    "from sklearn.preprocessing import StandardScaler\n",
    "import time\n",
    "import pandas as pd\n",
    "import json\n",
    "import pytesseract\n",
    "from PIL import Image\n",
    "import ast\n",
    "import re\n",
    "import numpy as np"
   ]
  },
  {
   "cell_type": "code",
   "execution_count": 5,
   "metadata": {},
   "outputs": [
    {
     "data": {
      "text/plain": [
       "((353, 5, 7), (353, 7))"
      ]
     },
     "execution_count": 5,
     "metadata": {},
     "output_type": "execute_result"
    }
   ],
   "source": [
    "# Load the team_data.csv file\n",
    "team_data = pd.read_csv('data_raw/team_data_filtered_sorted.csv')\n",
    "\n",
    "# Select only the relevant columns for modeling\n",
    "relevant_columns = ['Total_shots', 'Shots_off', 'Shots_saved', 'Corners', 'Free_kicks', 'Off_sides', 'Fouls']\n",
    "data_filtered = team_data[relevant_columns]\n",
    "\n",
    "# Convert data into sequences of 5 games for features and the 6th game for labels\n",
    "sequence_length = 5\n",
    "X, y = [], []\n",
    "\n",
    "for i in range(len(data_filtered) - sequence_length):\n",
    "    # Extract 5 consecutive games for input\n",
    "    X.append(data_filtered.iloc[i:i + sequence_length].values)\n",
    "    # Extract the next game as the target\n",
    "    y.append(data_filtered.iloc[i + sequence_length].values)\n",
    "\n",
    "# Convert to numpy arrays\n",
    "X = np.array(X)\n",
    "y = np.array(y)\n",
    "\n",
    "X.shape, y.shape  # Verify shapes\n"
   ]
  },
  {
   "cell_type": "code",
   "execution_count": 10,
   "metadata": {},
   "outputs": [],
   "source": [
    "# Split the data into training and testing sets\n",
    "X_train, X_test, y_train, y_test = train_test_split(X, y, test_size=0.2, random_state=42)\n",
    "\n",
    "# Standardize features\n",
    "scaler = StandardScaler()\n",
    "X_train_reshaped = X_train.reshape(-1, X_train.shape[-1])\n",
    "X_test_reshaped = X_test.reshape(-1, X_test.shape[-1])\n",
    "X_train_scaled = scaler.fit_transform(X_train_reshaped).reshape(X_train.shape)\n",
    "X_test_scaled = scaler.transform(X_test_reshaped).reshape(X_test.shape)"
   ]
  },
  {
   "cell_type": "code",
   "execution_count": null,
   "metadata": {},
   "outputs": [],
   "source": [
    "# Build the LSTM model\n",
    "model = Sequential()\n",
    "model.add(LSTM(units=64, return_sequences=True, input_shape=(X_train_scaled.shape[1], X_train_scaled.shape[2])))\n",
    "model.add(Dropout(0.2))\n",
    "model.add(LSTM(units=64))\n",
    "model.add(Dropout(0.2))\n",
    "model.add(Dense(units=7))  # Output layer with 7 units, matching the number of target features\n",
    "\n",
    "# Compile the model\n",
    "model.compile(optimizer='adam', loss='mse')\n",
    "\n",
    "# Train the model\n",
    "history = model.fit(X_train_scaled, y_train, epochs=50, batch_size=16, validation_data=(X_test_scaled, y_test))\n",
    "\n",
    "history.history\n"
   ]
  },
  {
   "cell_type": "code",
   "execution_count": null,
   "metadata": {},
   "outputs": [],
   "source": [
    "# Lưu mô hình vào tệp .h5\n",
    "model.save(\"lstm_football_model.h5\")\n",
    "print(\"Model saved to lstm_football_model.h5\")"
   ]
  },
  {
   "cell_type": "code",
   "execution_count": 6,
   "metadata": {},
   "outputs": [
    {
     "name": "stderr",
     "output_type": "stream",
     "text": [
      "WARNING:absl:Compiled the loaded model, but the compiled metrics have yet to be built. `model.compile_metrics` will be empty until you train or evaluate the model.\n"
     ]
    },
    {
     "name": "stdout",
     "output_type": "stream",
     "text": [
      "Model loaded from lstm_football_model.h5\n"
     ]
    }
   ],
   "source": [
    "# Tải mô hình với custom_objects để xử lý hàm 'mse'\n",
    "model = load_model(\"lstm_football_model.h5\", custom_objects={\"mse\": MeanSquaredError()})\n",
    "print(\"Model loaded from lstm_football_model.h5\")"
   ]
  },
  {
   "cell_type": "code",
   "execution_count": 11,
   "metadata": {},
   "outputs": [
    {
     "name": "stdout",
     "output_type": "stream",
     "text": [
      "\u001b[1m3/3\u001b[0m \u001b[32m━━━━━━━━━━━━━━━━━━━━\u001b[0m\u001b[37m\u001b[0m \u001b[1m1s\u001b[0m 129ms/step\n",
      "Average F1-score: 0.08740959327343734\n"
     ]
    }
   ],
   "source": [
    "# Make predictions on the test set\n",
    "y_pred = model.predict(X_test_scaled)\n",
    "\n",
    "# Since the model outputs continuous values, we need to round them to the nearest integer\n",
    "y_pred_rounded = np.round(y_pred).astype(int)\n",
    "\n",
    "# Calculate the F1-score for each feature and then take the average\n",
    "f1_scores = []\n",
    "for i in range(y_test.shape[1]):\n",
    "    f1 = f1_score(y_test[:, i], y_pred_rounded[:, i], average='weighted')\n",
    "    f1_scores.append(f1)\n",
    "\n",
    "# Calculate the average F1-score\n",
    "average_f1_score = np.mean(f1_scores)\n",
    "\n",
    "print(\"Average F1-score:\", average_f1_score)"
   ]
  },
  {
   "cell_type": "code",
   "execution_count": 12,
   "metadata": {},
   "outputs": [
    {
     "name": "stderr",
     "output_type": "stream",
     "text": [
      "WARNING:absl:Compiled the loaded model, but the compiled metrics have yet to be built. `model.compile_metrics` will be empty until you train or evaluate the model.\n"
     ]
    },
    {
     "name": "stdout",
     "output_type": "stream",
     "text": [
      "Model loaded from lstm_football_model.h5\n",
      "\u001b[1m1/1\u001b[0m \u001b[32m━━━━━━━━━━━━━━━━━━━━\u001b[0m\u001b[37m\u001b[0m \u001b[1m0s\u001b[0m 240ms/step\n",
      "Predicted stats for next match: [[13.913827   4.5459886  3.1269624  5.153135   8.899273   2.032382\n",
      "  10.820864 ]]\n"
     ]
    }
   ],
   "source": [
    "# Tải mô hình với custom_objects để xử lý hàm 'mse'\n",
    "model = load_model(\"lstm_football_model.h5\", custom_objects={\"mse\": MeanSquaredError()})\n",
    "print(\"Model loaded from lstm_football_model.h5\")\n",
    "\n",
    "\n",
    "# Ví dụ giả định về recent_matches (thay thế bằng dữ liệu thực của bạn)\n",
    "recent_matches = np.array([\n",
    "    [\n",
    "        [10, 3, 7, 2, 5, 15, 1],  # Dữ liệu trận 1\n",
    "        [12, 2, 8, 4, 6, 13, 2],  # Dữ liệu trận 2\n",
    "        [9, 5, 6, 1, 4, 14, 0],   # Dữ liệu trận 3\n",
    "        [11, 3, 9, 3, 7, 12, 1],  # Dữ liệu trận 4\n",
    "        [10, 4, 5, 2, 6, 13, 0],  # Dữ liệu trận 5\n",
    "    ]\n",
    "])\n",
    "\n",
    "# Dự đoán\n",
    "prediction = model.predict(recent_matches)\n",
    "print(\"Predicted stats for next match:\", prediction)"
   ]
  }
 ],
 "metadata": {
  "kernelspec": {
   "display_name": "Python 3",
   "language": "python",
   "name": "python3"
  },
  "language_info": {
   "codemirror_mode": {
    "name": "ipython",
    "version": 3
   },
   "file_extension": ".py",
   "mimetype": "text/x-python",
   "name": "python",
   "nbconvert_exporter": "python",
   "pygments_lexer": "ipython3",
   "version": "3.11.7"
  }
 },
 "nbformat": 4,
 "nbformat_minor": 2
}
